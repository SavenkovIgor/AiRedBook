{
 "cells": [
  {
   "cell_type": "code",
   "execution_count": 2,
   "id": "413b2b8e",
   "metadata": {},
   "outputs": [],
   "source": [
    "import openai\n",
    "import os\n",
    "import json\n",
    "\n",
    "from dotenv import load_dotenv, find_dotenv\n",
    "_ = load_dotenv(find_dotenv())\n",
    "\n",
    "openai.api_key = os.getenv('OPENAI_API_KEY')\n",
    "\n",
    "class ChatEngine:\n",
    "    model = \"\"\n",
    "    temp = 0\n",
    "\n",
    "    def __init__(self, model=\"gpt-3.5-turbo\", temp=0):\n",
    "        self.model = model\n",
    "        self.temp = temp\n",
    "\n",
    "class Chat:\n",
    "    messages: list = []\n",
    "    engine: ChatEngine\n",
    "\n",
    "    def __init__(self, engine, system_message, user_messages = []):\n",
    "        self.engine = engine\n",
    "        self.messages.append({\"role\": \"system\", \"content\": system_message})\n",
    "        self.messages.extend([{\"role\": \"user\", \"content\": message} for message in user_messages])\n",
    "\n",
    "    def get_answer(self, user_message = \"\"):\n",
    "        if user_message != \"\":\n",
    "            self.messages.append({\"role\": \"user\", \"content\": user_message})\n",
    "        response = openai.ChatCompletion.create(\n",
    "            model=self.engine.model,\n",
    "            messages=self.messages,\n",
    "            temperature=self.engine.temp,\n",
    "        )\n",
    "        answer = response.choices[0].message[\"content\"]\n",
    "        self.messages.append({\"role\": \"assistant\", \"content\": answer})\n",
    "        return answer\n",
    "    \n",
    "    def clear_messages(self):\n",
    "        first_message = self.messages[0]\n",
    "        self.messages = []\n",
    "        self.messages.append(first_message)\n"
   ]
  },
  {
   "cell_type": "code",
   "execution_count": null,
   "id": "bd5d8465",
   "metadata": {},
   "outputs": [],
   "source": [
    "task_prompt = \"\"\"\n",
    "\"\"\"\n",
    "\n",
    "def get_answer(new_term):\n",
    "    engine = ChatEngine(temp=0.2)\n",
    "    chat = Chat(engine, task_prompt)\n",
    "\n",
    "    answer = chat.get_answer()\n",
    "    print(answer)\n",
    "    chat.clear_messages()\n",
    "\n",
    "get_answer(\"Meaning of life, universe and everything\")"
   ]
  }
 ],
 "metadata": {
  "kernelspec": {
   "display_name": "Python 3 (ipykernel)",
   "language": "python",
   "name": "python3"
  },
  "language_info": {
   "codemirror_mode": {
    "name": "ipython",
    "version": 3
   },
   "file_extension": ".py",
   "mimetype": "text/x-python",
   "name": "python",
   "nbconvert_exporter": "python",
   "pygments_lexer": "ipython3",
   "version": "3.11.2"
  }
 },
 "nbformat": 4,
 "nbformat_minor": 5
}
